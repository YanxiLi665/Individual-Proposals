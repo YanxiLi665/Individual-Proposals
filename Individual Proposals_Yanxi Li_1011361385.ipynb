{
 "cells": [
  {
   "cell_type": "markdown",
   "id": "2dfd908d",
   "metadata": {},
   "source": [
    "**Analysis 1: One-Sample Hypothesis Test for Loneliness Score**"
   ]
  },
  {
   "cell_type": "markdown",
   "id": "07ef9925",
   "metadata": {},
   "source": [
    "- **Research Question:** Are levels of loneliness in this population significantly different from a hypothesized population mean (e.g., a national average loneliness score)?\n",
    "- **Primary Variable:** `LONELY_ucla_loneliness_scale_score` (measuring loneliness in the sample).\n",
    "\n",
    "**Analysis**\n",
    "\n",
    "**1. Hypotheses:**\n",
    "- **Null Hypothesis (H0):** The mean loneliness score for this sample is equal to a known population mean.\n",
    "- **Alternative Hypothesis (H1):** The mean loneliness score for this sample is different from the known population mean.\n",
    "\n",
    "**2. Calculate the Sample Mean:**\n",
    "- Compute the average score of `LONELY_ucla_loneliness_scale_score` for the sample.\n",
    "\n",
    "**3. Perform the One-Sample t-Test:**\n",
    "- Use a one-sample t-test to compare the sample mean to the population mean.\n",
    "- Use the formula for t-statistic.\n",
    ".\n",
    "\n",
    "**4. Check Assumptions:**\n",
    "- **Normality:** Ensure the distribution of loneliness scores is approximately normal, which can be assessed using a histogram.\n",
    "- **Random Sampling:** Ensure that the sample is randomly selected.\n",
    "\n",
    "**5. Interpret Results:**\n",
    "- If the p-value is below a chosen significance level (e.g., 0.05), reject the null hypothesis. This suggests that loneliness in this sample is significantly different from the population mean.\n",
    "- Report the test statistic, p-value, and whether the null hypothesis was rejected.\n",
    "\n",
    "**6. Visualize Results:**\n",
    "- Create a histogram or box plot of loneliness scores with a line indicating the population mean for visual comparison.\n",
    "\n",
    "**Expected Outcome:**\n",
    "- If the sample's loneliness levels differ significantly from the hypothesized mean, this could suggest unique loneliness patterns within this group, potentially warranting further study into causes and interventions."
   ]
  },
  {
   "cell_type": "markdown",
   "id": "165557a1",
   "metadata": {},
   "source": [
    "**Analysis 2: Two-Sample Hypothesis Test for Life Satisfaction Between Burnout Groups**"
   ]
  },
  {
   "cell_type": "markdown",
   "id": "58e7d16e",
   "metadata": {},
   "source": [
    "- **Research Question:** Do individuals with high burnout levels have significantly lower life satisfaction compared to those with low burnout levels?\n",
    "- **Primary Variable:** `WELLNESS_life_satisfaction` (measuring life satisfaction).\n",
    "- **Grouping Variable:** `WELLNESS_malach_pines_burnout_measure_score`, categorized into low burnout and high burnout groups.\n",
    "\n",
    "**Analysis**\n",
    "\n",
    "**1. Hypotheses:**\n",
    "- **Null Hypothesis (H0):** There is no difference in life satisfaction scores between high and low burnout groups.\n",
    "- **Alternative Hypothesis (H1):** There is a difference in life satisfaction scores between high and low burnout groups.\n",
    "\n",
    "**2. Calculate Group Means and Standard Deviations:**\n",
    "- Compute the mean and standard deviation of `WELLNESS_life_satisfaction` for each group.\n",
    "\n",
    "**3. Perform the Two-Sample t-Test:**\n",
    "- Use an independent samples t-test, appropriate for comparing means of two independent groups.\n",
    "- Use the formula for the t-statistic.\n",
    "\n",
    "**4. Check Assumptions:**\n",
    "- **Normality:** Confirm that life satisfaction scores are approximately normally distributed within each group.\n",
    "- **Equal Variances**\n",
    "\n",
    "**5. Interpret Results:**\n",
    "- If the p-value is below 0.05, reject the null hypothesis, suggesting a significant difference in life satisfaction between high and low burnout groups.\n",
    "- Report the test statistic, p-value, confidence interval, and whether the null hypothesis was rejected.\n",
    "\n",
    "**6. Visualize Results:**\n",
    "- Use box plots to show life satisfaction scores across the two burnout groups to illustrate the difference visually.\n",
    "\n",
    "**Expected Outcome:**\n",
    "- A significant difference would suggest that high burnout negatively impacts life satisfaction, emphasizing the importance of addressing burnout to improve well-being."
   ]
  },
  {
   "cell_type": "markdown",
   "id": "6f702f6c",
   "metadata": {},
   "source": [
    "**Analysis 3: Simple Linear Regression for Anxiety and Subjective Happiness**"
   ]
  },
  {
   "cell_type": "markdown",
   "id": "3e5317e7",
   "metadata": {},
   "source": [
    "- **Research Question:** How does anxiety level predict subjective happiness?\n",
    "- **Response Variable:** `WELLNESS_subjective_happiness_scale_score` (measuring subjective happiness).\n",
    "- **Predictor Variable:** `WELLNESS_gad_score` (measuring anxiety level).\n",
    "\n",
    "**Analysis**\n",
    "\n",
    "**1. Define the Variables:**\n",
    "- **Response Variable (Y):** `WELLNESS_subjective_happiness_scale_score` (subjective happiness).\n",
    "- **Predictor Variable (X):** `WELLNESS_gad_score` (anxiety level).\n",
    "\n",
    "**2. Hypotheses:**\n",
    "- **Null Hypothesis (H0):** Anxiety does not predict happiness (slope of regression line β=0).\n",
    "- **Alternative Hypothesis (H1):** Higher anxiety is associated with lower happiness (slope of regression line β<0).\n",
    "\n",
    "**3. Fit the Regression Model:**\n",
    "- Use simple linear regression to model the relationship.\n",
    "\n",
    "**4. Check Assumptions:**\n",
    "- **Linearity:** Check that the relationship between anxiety and happiness is approximately linear (scatter plot with fitted line).\n",
    "- **Normality of Residuals:** Plot residuals and perform a Shapiro-Wilk test to ensure residuals are normally distributed.\n",
    "- **Homoscedasticity:** Plot residuals against fitted values to confirm constant variance (no pattern should be evident).\n",
    "\n",
    "**5. Interpret Results:**\n",
    "- If the p-value for the slope coefficient (β1) is less than 0.05, reject the null hypothesis, indicating that anxiety is a significant predictor of happiness.\n",
    "- Report the regression equation, slope coefficient, p-value, R-squared value, and whether the null hypothesis was rejected.\n",
    "\n",
    "**6. Visualize Results:**\n",
    "- Create a scatter plot of happiness versus anxiety with a fitted regression line to illustrate the relationship.\n",
    "\n",
    "**Expected Outcome:**\n",
    "- A significant negative slope would indicate that as anxiety increases, happiness tends to decrease, underscoring the potential mental health benefits of managing anxiety."
   ]
  }
 ],
 "metadata": {
  "kernelspec": {
   "display_name": "Python 3 (ipykernel)",
   "language": "python",
   "name": "python3"
  },
  "language_info": {
   "codemirror_mode": {
    "name": "ipython",
    "version": 3
   },
   "file_extension": ".py",
   "mimetype": "text/x-python",
   "name": "python",
   "nbconvert_exporter": "python",
   "pygments_lexer": "ipython3",
   "version": "3.11.6"
  }
 },
 "nbformat": 4,
 "nbformat_minor": 5
}
